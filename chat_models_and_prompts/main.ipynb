{
 "cells": [
  {
   "cell_type": "markdown",
   "id": "96085cc7",
   "metadata": {},
   "source": [
    "简单的调用本地 ollama 模型 实现对话\n"
   ]
  },
  {
   "cell_type": "code",
   "execution_count": 1,
   "id": "1e6096d6",
   "metadata": {},
   "outputs": [
    {
     "name": "stdout",
     "output_type": "stream",
     "text": [
      "{'language': '英语', 'text': 'How can I use LangChain with Ollama?'}\n"
     ]
    }
   ],
   "source": [
    "from langchain_community.chat_models import ChatOllama\n",
    "from langchain.chains import LLMChain\n",
    "from langchain.prompts import ChatPromptTemplate\n",
    "from dotenv import load_dotenv\n",
    "import os\n",
    "\n",
    "load_dotenv()\n",
    "\n",
    "OLLAMA_API_URL = os.getenv(\"OLLAMA_API_URL\")\n",
    "\n",
    "llm = ChatOllama(\n",
    "    model=\"llama3:8b\",  # 模型名称\n",
    "    base_url=OLLAMA_API_URL,  # Ollama 服务地址\n",
    "    temperature=0.7,\n",
    ")\n",
    "\n",
    "# 定义提示模板\n",
    "prompt = ChatPromptTemplate.from_messages(\n",
    "    [(\"system\", \"将用户的问题翻译成{language}。\"), (\"human\", \"{text}\")]\n",
    ")\n",
    "\n",
    "# 创建链\n",
    "chain = LLMChain(llm=llm, prompt=prompt)\n",
    "\n",
    "\n",
    "# 运行链\n",
    "result = chain.invoke(\n",
    "    {\"language\": \"英语\", \"text\": \"LangChain 如何与 Ollama 配合使用？\"}\n",
    ")\n",
    "print(result)"
   ]
  }
 ],
 "metadata": {
  "kernelspec": {
   "display_name": "3.10.17",
   "language": "python",
   "name": "python3"
  },
  "language_info": {
   "codemirror_mode": {
    "name": "ipython",
    "version": 3
   },
   "file_extension": ".py",
   "mimetype": "text/x-python",
   "name": "python",
   "nbconvert_exporter": "python",
   "pygments_lexer": "ipython3",
   "version": "3.10.17"
  }
 },
 "nbformat": 4,
 "nbformat_minor": 5
}
