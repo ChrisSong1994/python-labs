{
 "cells": [
  {
   "cell_type": "markdown",
   "id": "5d76500e",
   "metadata": {},
   "source": [
    "测试本地嵌入式模型的使用"
   ]
  },
  {
   "cell_type": "code",
   "execution_count": 1,
   "id": "c6f8ce49",
   "metadata": {},
   "outputs": [
    {
     "name": "stdout",
     "output_type": "stream",
     "text": [
      "向量维度：1024\n"
     ]
    }
   ],
   "source": [
    "from langchain_community.embeddings import OllamaEmbeddings\n",
    "\n",
    "# 初始化嵌入模型\n",
    "embeddings = OllamaEmbeddings(\n",
    "    model=\"bge-m3\",  # 嵌入模型\n",
    "    base_url=\"http://home.chrissong.top:11434\"\n",
    ")\n",
    "\n",
    "# 生成文本嵌入\n",
    "text = \"这是一段测试文本\"\n",
    "vector = embeddings.embed_query(text)  # 生成查询向量\n",
    "print(f\"向量维度：{len(vector)}\")  # 通常为 1024 维（bge-m3 特征）"
   ]
  }
 ],
 "metadata": {
  "kernelspec": {
   "display_name": "3.10.17",
   "language": "python",
   "name": "python3"
  },
  "language_info": {
   "codemirror_mode": {
    "name": "ipython",
    "version": 3
   },
   "file_extension": ".py",
   "mimetype": "text/x-python",
   "name": "python",
   "nbconvert_exporter": "python",
   "pygments_lexer": "ipython3",
   "version": "3.10.17"
  }
 },
 "nbformat": 4,
 "nbformat_minor": 5
}
