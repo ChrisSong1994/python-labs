{
 "cells": [
  {
   "cell_type": "markdown",
   "id": "96085cc7",
   "metadata": {},
   "source": [
    "简单的调用本地 ollama 模型 实现对话\n"
   ]
  },
  {
   "cell_type": "code",
   "execution_count": 4,
   "id": "1e6096d6",
   "metadata": {},
   "outputs": [
    {
     "name": "stdout",
     "output_type": "stream",
     "text": [
      "Hello! It's nice to meet you. Is there something I can help you with, or would you like to chat?\n"
     ]
    }
   ],
   "source": [
    "from dotenv import load_dotenv\n",
    "from langchain_community.chat_models import ChatOllama\n",
    "import os\n",
    "\n",
    "load_dotenv()\n",
    "\n",
    "OLLAMA_API_URL = os.getenv(\"OLLAMA_API_URL\")\n",
    "\n",
    "llm = ChatOllama(\n",
    "    model=\"llama3:8b\",  # 模型名称\n",
    "    base_url=OLLAMA_API_URL,  # Ollama 服务地址\n",
    "    temperature=0.7,\n",
    ")\n",
    "\n",
    "# 测试调用\n",
    "response = llm.invoke(\"Hello!\")\n",
    "print(response.content)"
   ]
  }
 ],
 "metadata": {
  "kernelspec": {
   "display_name": "3.10.17",
   "language": "python",
   "name": "python3"
  },
  "language_info": {
   "codemirror_mode": {
    "name": "ipython",
    "version": 3
   },
   "file_extension": ".py",
   "mimetype": "text/x-python",
   "name": "python",
   "nbconvert_exporter": "python",
   "pygments_lexer": "ipython3",
   "version": "3.10.17"
  }
 },
 "nbformat": 4,
 "nbformat_minor": 5
}
