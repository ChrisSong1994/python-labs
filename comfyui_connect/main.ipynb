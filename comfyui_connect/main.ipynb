{
 "cells": [
  {
   "cell_type": "code",
   "execution_count": 1,
   "id": "e2151107",
   "metadata": {},
   "outputs": [
    {
     "name": "stdout",
     "output_type": "stream",
     "text": [
      "http://home.chrissong.top:3818\n"
     ]
    }
   ],
   "source": [
    "# 环境变量\n",
    "\n",
    "# load env\n",
    "from dotenv import load_dotenv \n",
    "import os \n",
    "load_dotenv()\n",
    "\n",
    "COMFYUI_API_URL = os.getenv(\"COMFYUI_API_URL\")\n",
    "print(COMFYUI_API_URL)"
   ]
  },
  {
   "cell_type": "code",
   "execution_count": null,
   "id": "14b4d635",
   "metadata": {},
   "outputs": [],
   "source": [
    "# 测试对 comfyui 的链接使用\n",
    "LOCAL_WORKFLOW_FILE = \"./default-test.json\"\n",
    "\n"
   ]
  }
 ],
 "metadata": {
  "kernelspec": {
   "display_name": "3.10.17",
   "language": "python",
   "name": "python3"
  },
  "language_info": {
   "codemirror_mode": {
    "name": "ipython",
    "version": 3
   },
   "file_extension": ".py",
   "mimetype": "text/x-python",
   "name": "python",
   "nbconvert_exporter": "python",
   "pygments_lexer": "ipython3",
   "version": "3.10.17"
  }
 },
 "nbformat": 4,
 "nbformat_minor": 5
}
