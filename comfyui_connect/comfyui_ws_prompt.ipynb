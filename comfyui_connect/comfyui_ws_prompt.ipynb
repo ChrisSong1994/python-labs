{
 "cells": [
  {
   "cell_type": "code",
   "execution_count": 5,
   "id": "a4b82207",
   "metadata": {},
   "outputs": [
    {
     "name": "stdout",
     "output_type": "stream",
     "text": [
      "Environment variables loaded.\n",
      "Using ComfyUI URL: http://home.chrissong.top:3818\n"
     ]
    }
   ],
   "source": [
    "from utils.load_env import load_env\n",
    "\n",
    "envs = load_env()\n",
    "\n",
    "# ComfyUI 服务地址\n",
    "COMFYUI_BASE_URL = envs.get(\"COMFYUI_URL\")\n",
    "\n",
    "print(f\"Using ComfyUI URL: {COMFYUI_BASE_URL}\")"
   ]
  },
  {
   "cell_type": "code",
   "execution_count": 11,
   "id": "40256d0b",
   "metadata": {},
   "outputs": [
    {
     "name": "stdout",
     "output_type": "stream",
     "text": [
      "{'3': {'inputs': {'seed': 1111537140283334, 'steps': 20, 'cfg': 8, 'sampler_name': 'dpmpp_2m', 'scheduler': 'normal', 'denoise': 0.8700000000000001, 'model': ['14', 0], 'positive': ['6', 0], 'negative': ['7', 0], 'latent_image': ['12', 0]}, 'class_type': 'KSampler', '_meta': {'title': 'K采样器'}}, '6': {'inputs': {'text': 'photograph of victorian woman with wings, sky clouds, meadow grass\\n', 'clip': ['14', 1]}, 'class_type': 'CLIPTextEncode', '_meta': {'title': 'CLIP文本编码'}}, '7': {'inputs': {'text': 'watermark, text\\n', 'clip': ['14', 1]}, 'class_type': 'CLIPTextEncode', '_meta': {'title': 'CLIP文本编码'}}, '8': {'inputs': {'samples': ['3', 0], 'vae': ['14', 2]}, 'class_type': 'VAEDecode', '_meta': {'title': 'VAE解码'}}, '9': {'inputs': {'filename_prefix': 'ComfyUI', 'images': ['8', 0]}, 'class_type': 'SaveImage', '_meta': {'title': '保存图像'}}, '10': {'inputs': {'image': 'example.png'}, 'class_type': 'LoadImage', '_meta': {'title': '加载图像'}}, '12': {'inputs': {'pixels': ['18', 0], 'vae': ['14', 2]}, 'class_type': 'VAEEncode', '_meta': {'title': 'VAE编码'}}, '14': {'inputs': {'ckpt_name': 'v1-5-pruned-emaonly-fp16.safetensors'}, 'class_type': 'CheckpointLoaderSimple', '_meta': {'title': 'Checkpoint加载器（简易）'}}, '18': {'inputs': {'upscale_method': 'nearest-exact', 'megapixels': 0.25, 'image': ['10', 0]}, 'class_type': 'ImageScaleToTotalPixels', '_meta': {'title': '缩放图像（像素）'}}}\n"
     ]
    }
   ],
   "source": [
    "from utils.load_json import load_json\n",
    "\n",
    "# WORKFLOW_API_FILE = \"comfyui_wf_api/base_api.json\"\n",
    "WORKFLOW_API_FILE = \"comfyui_wf_api/image2image.json\"\n",
    "\n",
    "prompt_json = load_json(WORKFLOW_API_FILE)\n",
    "\n",
    "print(prompt_json)"
   ]
  },
  {
   "cell_type": "markdown",
   "id": "b7788348",
   "metadata": {},
   "source": [
    "需要使用异步的 websocket 链接 才能成功运行"
   ]
  },
  {
   "cell_type": "code",
   "execution_count": null,
   "id": "1a20f1c1",
   "metadata": {},
   "outputs": [],
   "source": [
    "import websockets\n",
    "import json\n",
    "import uuid\n",
    "import urllib.request\n",
    "from urllib.parse import urlparse\n",
    "from typing import Dict, Any\n",
    "\n",
    "client_id = str(\"bd3fc1077c9845508e26b06ef2dbeff1\")\n",
    "\n",
    "\n",
    "def queue_prompt(prompt, prompt_id):\n",
    "    p = {\"prompt\": prompt, \"client_id\": client_id, \"prompt_id\": prompt_id}\n",
    "    data = json.dumps(p).encode(\"utf-8\")\n",
    "    req = urllib.request.Request(\"{}/prompt\".format(COMFYUI_BASE_URL), data=data)\n",
    "    urllib.request.urlopen(req).read()\n",
    "\n",
    "\n",
    "async def get_history(prompt_id):\n",
    "    with urllib.request.urlopen(\n",
    "        \"{}/history/{}\".format(COMFYUI_BASE_URL, prompt_id)\n",
    "    ) as response:\n",
    "        return json.loads(response.read())\n",
    "\n",
    "\n",
    "async def send_prompt_and_listen(prompt: Dict[str, Any]):\n",
    "    # 生成正确的WebSocket地址\n",
    "    parsed_url = urlparse(COMFYUI_BASE_URL)\n",
    "    ws_scheme = \"wss\" if parsed_url.scheme == \"https\" else \"ws\"\n",
    "    ws_url = f\"{ws_scheme}://{parsed_url.netloc}/ws?clientId={client_id}\"\n",
    "    print(f\"尝试连接WebSocket: {ws_url}\")\n",
    "\n",
    "    try:\n",
    "        async with websockets.connect(\n",
    "            ws_url, extra_headers={\"Origin\": COMFYUI_BASE_URL}\n",
    "        ) as websocket:\n",
    "            print(\"✅ WebSocket连接成功！\")\n",
    "\n",
    "            prompt_id = str(uuid.uuid4())\n",
    "            queue_prompt(prompt, prompt_id)\n",
    "            print(\"📤 已发送prompt\")\n",
    "\n",
    "            # 2. 持续监听返回信息\n",
    "            while True:\n",
    "                response = await websocket.recv()\n",
    "                response_data = json.loads(response)\n",
    "\n",
    "                # 根据消息类型处理不同响应\n",
    "                if response_data.get(\"type\") == \"status\":\n",
    "                    # 处理状态更新（如队列位置、正在处理等）\n",
    "                    status = response_data.get(\"status\", {})\n",
    "                    print(\n",
    "                        f\"📊 状态更新: 队列位置 {status.get('queue_position')}，状态: {status.get('status')}\"\n",
    "                    )\n",
    "\n",
    "                elif response_data.get(\"type\") == \"executing\":\n",
    "                    # 处理正在执行的节点信息\n",
    "                    node = response_data.get(\"node\")\n",
    "                    print(f\"▶️ 正在执行节点: {node}\")\n",
    "\n",
    "                elif response_data.get(\"type\") == \"executed\":\n",
    "                    # 处理节点执行完成信息\n",
    "                    node = response_data['data'].get(\"node\")\n",
    "                    output = response_data['data'].get(\"output\")\n",
    "                    print(f\"✅ 节点执行完成: {node}\")\n",
    "                    # 如果有图像输出，提取图像信息\n",
    "                    if \"images\" in output:\n",
    "                        print(f\"🖼️ 生成图像数量: {len(output['images'])}\")\n",
    "                        for img in output[\"images\"]:\n",
    "                            print(\n",
    "                                f\"   - 图像名称: {img['filename']}, 类型: {img['type']}\"\n",
    "                            )\n",
    "\n",
    "                elif response_data.get(\"type\") == \"error\":\n",
    "                    # 处理错误信息\n",
    "                    error = response_data.get(\"message\")\n",
    "                    print(f\"❌ 错误: {error}\")\n",
    "                    break  # 发生错误时退出监听\n",
    "\n",
    "                elif response_data.get(\"type\") == \"done\":\n",
    "                    # 处理所有任务完成信息\n",
    "                    print(\"🏁 所有任务执行完成\")\n",
    "                    break  # 完成后退出监听\n",
    "\n",
    "    except websockets.exceptions.InvalidStatusCode as e:\n",
    "        print(f\"❌ 握手失败，状态码: {e.status_code}\")\n",
    "        if e.status_code == 400:\n",
    "            print(\"- 请检查路径是否正确(/ws)、协议是否匹配或跨域设置\")\n",
    "    except Exception as e:\n",
    "        print(f\"❌ 连接错误: {str(e)}\")\n",
    "\n",
    "\n",
    "if __name__ == \"__main__\":\n",
    "    # 启动事件循环\n",
    "    await send_prompt_and_listen(prompt_json)"
   ]
  }
 ],
 "metadata": {
  "kernelspec": {
   "display_name": "3.10.17",
   "language": "python",
   "name": "python3"
  },
  "language_info": {
   "codemirror_mode": {
    "name": "ipython",
    "version": 3
   },
   "file_extension": ".py",
   "mimetype": "text/x-python",
   "name": "python",
   "nbconvert_exporter": "python",
   "pygments_lexer": "ipython3",
   "version": "3.10.17"
  }
 },
 "nbformat": 4,
 "nbformat_minor": 5
}
