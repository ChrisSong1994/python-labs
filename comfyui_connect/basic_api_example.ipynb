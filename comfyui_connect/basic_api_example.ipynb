{
 "cells": [
  {
   "cell_type": "code",
   "execution_count": null,
   "id": "d30a1539",
   "metadata": {},
   "outputs": [
    {
     "name": "stdout",
     "output_type": "stream",
     "text": [
      "Environment variables loaded.\n",
      "Using ComfyUI URL: http://home.chrissong.top:3818\n"
     ]
    }
   ],
   "source": [
    "from utils.load_env import load_env\n",
    "\n",
    "envs = load_env()\n",
    "\n",
    "# ComfyUI 服务地址\n",
    "COMFYUI_URL = envs.get(\"COMFYUI_URL\")\n",
    "\n",
    "print(f\"Using ComfyUI URL: {COMFYUI_URL}\")"
   ]
  },
  {
   "cell_type": "code",
   "execution_count": null,
   "id": "14dd079d",
   "metadata": {},
   "outputs": [
    {
     "name": "stdout",
     "output_type": "stream",
     "text": [
      "发送工作流到 ComfyUI 队列\n",
      "Prompt queued with ID: 3ff152be-ebaa-4046-a17d-7c09787364c0\n"
     ]
    }
   ],
   "source": [
    "import requests\n",
    "from io import BytesIO\n",
    "from PIL import Image\n",
    "\n",
    "# 加载工作流 api 然后执行\n",
    "\n",
    "from utils.load_json import load_json\n",
    "\n",
    "# WORKFLOW_API_FILE = \"comfyui_wf_api/base_api.json\"\n",
    "WORKFLOW_API_FILE = \"comfyui_wf_api/image2image.json\"\n",
    "\n",
    "workflow = load_json(WORKFLOW_API_FILE)\n",
    "\n",
    "\n",
    "def queue_prompt(prompt):\n",
    "    print(\"发送工作流到 ComfyUI 队列\")\n",
    "    response = requests.post(f\"{COMFYUI_URL}/prompt\", json={\"prompt\": prompt})\n",
    "    return response.json()\n",
    "\n",
    "\n",
    "def get_image(filename, subfolder, folder_type):\n",
    "    print(\"从 ComfyUI 获取生成的图片\")\n",
    "    data = {\"filename\": filename, \"subfolder\": subfolder, \"type\": folder_type}\n",
    "    response = requests.get(f\"{COMFYUI_URL}/view\", params=data)\n",
    "    return Image.open(BytesIO(response.content))\n",
    "\n",
    "\n",
    "# 使用示例\n",
    "if __name__ == \"__main__\":\n",
    "    # 创建工作流\n",
    "    # prompt = create_text_to_image_prompt(\"An endless desert, fiery sun, blue sky\")\n",
    "\n",
    "    # 发送到 ComfyUI 处理\n",
    "    response = queue_prompt(workflow)\n",
    "    prompt_id = response[\"prompt_id\"]\n",
    "    print(f\"Prompt queued with ID: {prompt_id}\")\n",
    "\n",
    "    # 获取生成的图像（实际使用时需要轮询等待完成）\n",
    "    # 这里简化了流程，实际需要根据输出节点的信息获取图片\n",
    "    # image = get_image(\"ComfyUI_00001_.png\", \"\", \"output\")\n",
    "    # image.show()"
   ]
  }
 ],
 "metadata": {
  "kernelspec": {
   "display_name": "3.10.17",
   "language": "python",
   "name": "python3"
  },
  "language_info": {
   "codemirror_mode": {
    "name": "ipython",
    "version": 3
   },
   "file_extension": ".py",
   "mimetype": "text/x-python",
   "name": "python",
   "nbconvert_exporter": "python",
   "pygments_lexer": "ipython3",
   "version": "3.10.17"
  }
 },
 "nbformat": 4,
 "nbformat_minor": 5
}
