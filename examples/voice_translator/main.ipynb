{
 "cells": [
  {
   "cell_type": "markdown",
   "id": "065fb2ce",
   "metadata": {},
   "source": [
    "# 语音识别+合成"
   ]
  }
 ],
 "metadata": {
  "language_info": {
   "name": "python"
  }
 },
 "nbformat": 4,
 "nbformat_minor": 5
}
